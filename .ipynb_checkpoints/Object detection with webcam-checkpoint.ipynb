{
 "cells": [
  {
   "cell_type": "code",
   "execution_count": 9,
   "metadata": {},
   "outputs": [],
   "source": [
    "#Import relevant libraries required to read and process the images/video. OpenCV and cvlib which has object detection\n",
    "#module are used here for simple implementation. See https://docs.cvlib.net/\n",
    "\n",
    "import cv2\n",
    "import matplotlib.pyplot as plt\n",
    "import cvlib as cv\n",
    "from cvlib.object_detection import draw_bbox\n",
    "\n",
    "#Check the video device to capture. It may be different number if there are more that one video cameras\n",
    "#The display will terminate when the key 'q' is pressed on the video.\n",
    "cap = cv2.VideoCapture(0)\n",
    "\n",
    "while(True): \n",
    "    # Capture one frame at a time\n",
    "    ret, frame = cap.read()\n",
    "\n",
    "    # Detect the object, bounding box and the label\n",
    "    bbox, label, conf = cv.detect_common_objects(frame)\n",
    "    output_image = draw_bbox(frame, bbox, label, conf)\n",
    "    \n",
    "    # Display the resulting frame\n",
    "    cv2.imshow('frame', output_image)\n",
    "    \n",
    "    if cv2.waitKey(1) & 0xFF == ord('q'):\n",
    "        break\n",
    "\n",
    "# When everything done, release the capture\n",
    "cap.release()\n",
    "cv2.destroyAllWindows()\n",
    "\n"
   ]
  }
 ],
 "metadata": {
  "kernelspec": {
   "display_name": "Python 3",
   "language": "python",
   "name": "python3"
  },
  "language_info": {
   "codemirror_mode": {
    "name": "ipython",
    "version": 3
   },
   "file_extension": ".py",
   "mimetype": "text/x-python",
   "name": "python",
   "nbconvert_exporter": "python",
   "pygments_lexer": "ipython3",
   "version": "3.8.5"
  }
 },
 "nbformat": 4,
 "nbformat_minor": 4
}
